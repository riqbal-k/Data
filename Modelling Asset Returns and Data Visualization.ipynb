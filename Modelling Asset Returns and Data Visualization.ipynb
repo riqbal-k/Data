{
 "cells": [
  {
   "cell_type": "markdown",
   "id": "50563b00",
   "metadata": {},
   "source": [
    "# Research Methods- FIN-40055\n"
   ]
  },
  {
   "cell_type": "markdown",
   "id": "65d490d0",
   "metadata": {},
   "source": [
    "### Dr Robina Iqbal"
   ]
  },
  {
   "cell_type": "markdown",
   "id": "d71ac7f6",
   "metadata": {},
   "source": [
    "# Modelling asset returns and data visualization"
   ]
  },
  {
   "cell_type": "markdown",
   "id": "ef86f751",
   "metadata": {},
   "source": [
    "# 1. Financial Returns\n",
    "In this chapter we cover asset return calculations with an emphasis on equity returns. It is\n",
    "important to understand the different ways in which asset returns are calculated. Simple returns are most\n",
    "commonly used for money and portfolio calculations in practice.\n",
    "Continuously compounded returns, in contrast, have nicer properties that make mathematical and statistical modeling easie"
   ]
  },
  {
   "cell_type": "markdown",
   "id": "64f89801",
   "metadata": {},
   "source": [
    "##### Install required  Package"
   ]
  },
  {
   "cell_type": "code",
   "execution_count": 1,
   "id": "2fffc4be",
   "metadata": {},
   "outputs": [
    {
     "data": {
      "text/html": [
       "'C:/Users/mnf13'"
      ],
      "text/latex": [
       "'C:/Users/mnf13'"
      ],
      "text/markdown": [
       "'C:/Users/mnf13'"
      ],
      "text/plain": [
       "[1] \"C:/Users/mnf13\""
      ]
     },
     "metadata": {},
     "output_type": "display_data"
    }
   ],
   "source": [
    "#get working directory\n",
    "getwd()"
   ]
  },
  {
   "cell_type": "code",
   "execution_count": 2,
   "id": "0ca423da",
   "metadata": {},
   "outputs": [],
   "source": [
    "#set working director\n",
    "setwd('C:/Users/mnf13/RM')"
   ]
  },
  {
   "cell_type": "code",
   "execution_count": 3,
   "id": "e535cc19",
   "metadata": {},
   "outputs": [
    {
     "name": "stdout",
     "output_type": "stream",
     "text": [
      "package 'PerformanceAnalytics' successfully unpacked and MD5 sums checked\n"
     ]
    },
    {
     "name": "stderr",
     "output_type": "stream",
     "text": [
      "Warning message:\n",
      "\"cannot remove prior installation of package 'PerformanceAnalytics'\"Warning message in file.copy(savedcopy, lib, recursive = TRUE):\n",
      "\"problem copying C:\\Users\\mnf13\\Anaconda3\\envs\\R\\Lib\\R\\library\\00LOCK\\PerformanceAnalytics\\libs\\x64\\PerformanceAnalytics.dll to C:\\Users\\mnf13\\Anaconda3\\envs\\R\\Lib\\R\\library\\PerformanceAnalytics\\libs\\x64\\PerformanceAnalytics.dll: Permission denied\"Warning message:\n",
      "\"restored 'PerformanceAnalytics'\""
     ]
    },
    {
     "name": "stdout",
     "output_type": "stream",
     "text": [
      "\n",
      "The downloaded binary packages are in\n",
      "\tC:\\Users\\mnf13\\AppData\\Local\\Temp\\RtmpSmwTHz\\downloaded_packages\n"
     ]
    }
   ],
   "source": [
    "install.packages(\"PerformanceAnalytics\")"
   ]
  },
  {
   "cell_type": "code",
   "execution_count": 4,
   "id": "441c316b",
   "metadata": {},
   "outputs": [
    {
     "name": "stderr",
     "output_type": "stream",
     "text": [
      "Warning message:\n",
      "\"package 'PerformanceAnalytics' was built under R version 3.6.3\"Loading required package: xts\n",
      "Loading required package: zoo\n",
      "\n",
      "Attaching package: 'zoo'\n",
      "\n",
      "The following objects are masked from 'package:base':\n",
      "\n",
      "    as.Date, as.Date.numeric\n",
      "\n",
      "Registered S3 method overwritten by 'xts':\n",
      "  method     from\n",
      "  as.zoo.xts zoo \n",
      "\n",
      "Attaching package: 'PerformanceAnalytics'\n",
      "\n",
      "The following object is masked from 'package:graphics':\n",
      "\n",
      "    legend\n",
      "\n"
     ]
    }
   ],
   "source": [
    "library (PerformanceAnalytics)"
   ]
  },
  {
   "cell_type": "markdown",
   "id": "ee955a90",
   "metadata": {},
   "source": [
    "Load data from working directory"
   ]
  },
  {
   "cell_type": "code",
   "execution_count": 7,
   "id": "3bbc90c7",
   "metadata": {},
   "outputs": [],
   "source": [
    "#Microsoft daily close prices\n",
    "ms<-read.csv(\"Microsoft.csv\", header=TRUE)"
   ]
  },
  {
   "cell_type": "code",
   "execution_count": 8,
   "id": "ca75e2d5",
   "metadata": {},
   "outputs": [
    {
     "data": {
      "text/html": [
       "<table>\n",
       "<thead><tr><th scope=col>Dates</th><th scope=col>Close</th></tr></thead>\n",
       "<tbody>\n",
       "\t<tr><td>09/10/2002</td><td>22.00     </td></tr>\n",
       "\t<tr><td>10/10/2002</td><td>23.19     </td></tr>\n",
       "\t<tr><td>11/10/2002</td><td>24.44     </td></tr>\n",
       "\t<tr><td>14/10/2002</td><td>24.65     </td></tr>\n",
       "\t<tr><td>15/10/2002</td><td>26.15     </td></tr>\n",
       "\t<tr><td>16/10/2002</td><td>25.21     </td></tr>\n",
       "</tbody>\n",
       "</table>\n"
      ],
      "text/latex": [
       "\\begin{tabular}{r|ll}\n",
       " Dates & Close\\\\\n",
       "\\hline\n",
       "\t 09/10/2002 & 22.00     \\\\\n",
       "\t 10/10/2002 & 23.19     \\\\\n",
       "\t 11/10/2002 & 24.44     \\\\\n",
       "\t 14/10/2002 & 24.65     \\\\\n",
       "\t 15/10/2002 & 26.15     \\\\\n",
       "\t 16/10/2002 & 25.21     \\\\\n",
       "\\end{tabular}\n"
      ],
      "text/markdown": [
       "\n",
       "| Dates | Close |\n",
       "|---|---|\n",
       "| 09/10/2002 | 22.00      |\n",
       "| 10/10/2002 | 23.19      |\n",
       "| 11/10/2002 | 24.44      |\n",
       "| 14/10/2002 | 24.65      |\n",
       "| 15/10/2002 | 26.15      |\n",
       "| 16/10/2002 | 25.21      |\n",
       "\n"
      ],
      "text/plain": [
       "  Dates      Close\n",
       "1 09/10/2002 22.00\n",
       "2 10/10/2002 23.19\n",
       "3 11/10/2002 24.44\n",
       "4 14/10/2002 24.65\n",
       "5 15/10/2002 26.15\n",
       "6 16/10/2002 25.21"
      ]
     },
     "metadata": {},
     "output_type": "display_data"
    }
   ],
   "source": [
    "head(ms)"
   ]
  },
  {
   "cell_type": "code",
   "execution_count": 20,
   "id": "96ea1fb6",
   "metadata": {},
   "outputs": [],
   "source": [
    "#Standard and poor daily close prices\n",
    "sp<-read.csv(\"SP.csv\", header=TRUE)"
   ]
  },
  {
   "cell_type": "code",
   "execution_count": 21,
   "id": "7f8dcdba",
   "metadata": {},
   "outputs": [
    {
     "data": {
      "text/html": [
       "<table>\n",
       "<thead><tr><th scope=col>Dates</th><th scope=col>Close</th></tr></thead>\n",
       "<tbody>\n",
       "\t<tr><td>09/10/2002</td><td>776.76    </td></tr>\n",
       "\t<tr><td>10/10/2002</td><td>803.92    </td></tr>\n",
       "\t<tr><td>11/10/2002</td><td>835.32    </td></tr>\n",
       "\t<tr><td>14/10/2002</td><td>841.44    </td></tr>\n",
       "\t<tr><td>15/10/2002</td><td>881.27    </td></tr>\n",
       "\t<tr><td>16/10/2002</td><td>860.02    </td></tr>\n",
       "</tbody>\n",
       "</table>\n"
      ],
      "text/latex": [
       "\\begin{tabular}{r|ll}\n",
       " Dates & Close\\\\\n",
       "\\hline\n",
       "\t 09/10/2002 & 776.76    \\\\\n",
       "\t 10/10/2002 & 803.92    \\\\\n",
       "\t 11/10/2002 & 835.32    \\\\\n",
       "\t 14/10/2002 & 841.44    \\\\\n",
       "\t 15/10/2002 & 881.27    \\\\\n",
       "\t 16/10/2002 & 860.02    \\\\\n",
       "\\end{tabular}\n"
      ],
      "text/markdown": [
       "\n",
       "| Dates | Close |\n",
       "|---|---|\n",
       "| 09/10/2002 | 776.76     |\n",
       "| 10/10/2002 | 803.92     |\n",
       "| 11/10/2002 | 835.32     |\n",
       "| 14/10/2002 | 841.44     |\n",
       "| 15/10/2002 | 881.27     |\n",
       "| 16/10/2002 | 860.02     |\n",
       "\n"
      ],
      "text/plain": [
       "  Dates      Close \n",
       "1 09/10/2002 776.76\n",
       "2 10/10/2002 803.92\n",
       "3 11/10/2002 835.32\n",
       "4 14/10/2002 841.44\n",
       "5 15/10/2002 881.27\n",
       "6 16/10/2002 860.02"
      ]
     },
     "metadata": {},
     "output_type": "display_data"
    }
   ],
   "source": [
    "head(sp)"
   ]
  },
  {
   "cell_type": "code",
   "execution_count": 22,
   "id": "dcd93166",
   "metadata": {},
   "outputs": [
    {
     "data": {
      "text/html": [
       "'data.frame'"
      ],
      "text/latex": [
       "'data.frame'"
      ],
      "text/markdown": [
       "'data.frame'"
      ],
      "text/plain": [
       "[1] \"data.frame\""
      ]
     },
     "metadata": {},
     "output_type": "display_data"
    }
   ],
   "source": [
    "class(ms)"
   ]
  },
  {
   "cell_type": "markdown",
   "id": "c3592172",
   "metadata": {},
   "source": [
    "### We need to convert data \"data.frame\" class to a time series object othersie it will give us an error."
   ]
  },
  {
   "cell_type": "code",
   "execution_count": 23,
   "id": "9b4b3bea",
   "metadata": {},
   "outputs": [],
   "source": [
    "require(zoo)"
   ]
  },
  {
   "cell_type": "code",
   "execution_count": 24,
   "id": "fd363954",
   "metadata": {},
   "outputs": [
    {
     "data": {
      "text/html": [
       "'Date'"
      ],
      "text/latex": [
       "'Date'"
      ],
      "text/markdown": [
       "'Date'"
      ],
      "text/plain": [
       "[1] \"Date\""
      ]
     },
     "metadata": {},
     "output_type": "display_data"
    }
   ],
   "source": [
    "#microsoft\n",
    "ms$Dates <- as.Date(ms$Dates, \"%d/%m/%Y\")\n",
    "class(ms$Dates)\n"
   ]
  },
  {
   "cell_type": "code",
   "execution_count": 25,
   "id": "910a069b",
   "metadata": {},
   "outputs": [],
   "source": [
    "ms.z = zoo(x=ms$Close, order.by=ms$Dates)"
   ]
  },
  {
   "cell_type": "code",
   "execution_count": 26,
   "id": "bcaa5c75",
   "metadata": {},
   "outputs": [
    {
     "data": {
      "text/plain": [
       "2002-10-09 2002-10-10 2002-10-11 2002-10-14 2002-10-15 2002-10-16 \n",
       "     22.00      23.19      24.44      24.65      26.15      25.21 "
      ]
     },
     "metadata": {},
     "output_type": "display_data"
    }
   ],
   "source": [
    "head(ms.z)"
   ]
  },
  {
   "cell_type": "code",
   "execution_count": 27,
   "id": "08264569",
   "metadata": {},
   "outputs": [
    {
     "data": {
      "text/html": [
       "'Date'"
      ],
      "text/latex": [
       "'Date'"
      ],
      "text/markdown": [
       "'Date'"
      ],
      "text/plain": [
       "[1] \"Date\""
      ]
     },
     "metadata": {},
     "output_type": "display_data"
    }
   ],
   "source": [
    "#S and P\n",
    "sp$Dates <- as.Date(sp$Dates, \"%d/%m/%Y\")\n",
    "class(sp$Dates)"
   ]
  },
  {
   "cell_type": "code",
   "execution_count": 28,
   "id": "4938c830",
   "metadata": {},
   "outputs": [],
   "source": [
    "sp.z = zoo(x=sp$Close, order.by=sp$Dates)"
   ]
  },
  {
   "cell_type": "code",
   "execution_count": 29,
   "id": "b964a40c",
   "metadata": {},
   "outputs": [
    {
     "data": {
      "text/plain": [
       "2002-10-09 2002-10-10 2002-10-11 2002-10-14 2002-10-15 2002-10-16 \n",
       "    776.76     803.92     835.32     841.44     881.27     860.02 "
      ]
     },
     "metadata": {},
     "output_type": "display_data"
    }
   ],
   "source": [
    "head(sp.z)"
   ]
  },
  {
   "cell_type": "markdown",
   "id": "a98ad629",
   "metadata": {},
   "source": [
    "# Convert daily data into monthly data"
   ]
  },
  {
   "cell_type": "markdown",
   "id": "199bfe25",
   "metadata": {},
   "source": [
    "### End-of-month prices can be extracted from the daily prices using the xts function to.monthly()"
   ]
  },
  {
   "cell_type": "code",
   "execution_count": 30,
   "id": "eddda9ba",
   "metadata": {},
   "outputs": [],
   "source": [
    "ms.monthly<-to.monthly(ms.z,OHLC = FALSE)"
   ]
  },
  {
   "cell_type": "code",
   "execution_count": 31,
   "id": "74ce7589",
   "metadata": {},
   "outputs": [
    {
     "data": {
      "text/plain": [
       "Oct 2002 Nov 2002 Dec 2002 Jan 2003 Feb 2003 Mar 2003 \n",
       "   26.74    28.84    25.85    23.73    23.70    24.21 "
      ]
     },
     "metadata": {},
     "output_type": "display_data"
    }
   ],
   "source": [
    "head(ms.monthly)"
   ]
  },
  {
   "cell_type": "code",
   "execution_count": 32,
   "id": "8911e6f5",
   "metadata": {},
   "outputs": [],
   "source": [
    "sp.monthly<-to.monthly(sp.z,OHLC = FALSE)"
   ]
  },
  {
   "cell_type": "code",
   "execution_count": 33,
   "id": "0d5e3508",
   "metadata": {},
   "outputs": [
    {
     "data": {
      "text/plain": [
       "Oct 2002 Nov 2002 Dec 2002 Jan 2003 Feb 2003 Mar 2003 \n",
       "  885.76   936.31   879.82   855.70   841.15   848.18 "
      ]
     },
     "metadata": {},
     "output_type": "display_data"
    }
   ],
   "source": [
    "head(sp.monthly)"
   ]
  },
  {
   "cell_type": "markdown",
   "id": "63a288cf",
   "metadata": {},
   "source": [
    "## Merge two data set"
   ]
  },
  {
   "cell_type": "code",
   "execution_count": 34,
   "id": "26fdff6b",
   "metadata": {},
   "outputs": [],
   "source": [
    "#combine Microsoft and SP daily data\n",
    "ms.sp.dp<-merge(ms.z, sp.z)\n"
   ]
  },
  {
   "cell_type": "code",
   "execution_count": 35,
   "id": "0dbc667d",
   "metadata": {},
   "outputs": [
    {
     "data": {
      "text/plain": [
       "            ms.z   sp.z\n",
       "2002-10-09 22.00 776.76\n",
       "2002-10-10 23.19 803.92\n",
       "2002-10-11 24.44 835.32\n",
       "2002-10-14 24.65 841.44\n",
       "2002-10-15 26.15 881.27\n",
       "2002-10-16 25.21 860.02"
      ]
     },
     "metadata": {},
     "output_type": "display_data"
    }
   ],
   "source": [
    "head(ms.sp.dp)"
   ]
  },
  {
   "cell_type": "code",
   "execution_count": 36,
   "id": "1a3b5047",
   "metadata": {},
   "outputs": [],
   "source": [
    "#combine Microsoft and sP monthly data\n",
    "ms.sp.dm<-merge(ms.monthly, sp.monthly)"
   ]
  },
  {
   "cell_type": "code",
   "execution_count": 37,
   "id": "42836935",
   "metadata": {},
   "outputs": [
    {
     "data": {
      "text/plain": [
       "         ms.monthly sp.monthly\n",
       "Oct 2002      26.74     885.76\n",
       "Nov 2002      28.84     936.31\n",
       "Dec 2002      25.85     879.82\n",
       "Jan 2003      23.73     855.70\n",
       "Feb 2003      23.70     841.15\n",
       "Mar 2003      24.21     848.18"
      ]
     },
     "metadata": {},
     "output_type": "display_data"
    }
   ],
   "source": [
    "head(ms.sp.dm)"
   ]
  },
  {
   "cell_type": "markdown",
   "id": "9b9f3dfd",
   "metadata": {},
   "source": [
    "### Caluculated Continously compounding Returns(log returns)"
   ]
  },
  {
   "cell_type": "code",
   "execution_count": 38,
   "id": "7f1ac630",
   "metadata": {},
   "outputs": [
    {
     "data": {
      "text/plain": [
       "    Oct 2002     Nov 2002     Dec 2002     Jan 2003     Feb 2003     Mar 2003 \n",
       "          NA  0.075602741 -0.109452711 -0.085570531 -0.001265022  0.021290723 "
      ]
     },
     "metadata": {},
     "output_type": "display_data"
    },
    {
     "data": {
      "text/plain": [
       "  2002-10-09   2002-10-10   2002-10-11   2002-10-14   2002-10-15   2002-10-16 \n",
       "          NA  0.052678698  0.052499983  0.008555766  0.059072290 -0.036608449 "
      ]
     },
     "metadata": {},
     "output_type": "display_data"
    }
   ],
   "source": [
    "#Microsoft montly and daily log  returns\n",
    "ms.monthly.r<-Return.calculate(ms.monthly, method = \"log\")\n",
    "ms.daily.r<-Return.calculate(ms.z, method = \"log\")\n",
    "head(ms.monthly.r)\n",
    "head(ms.daily.r)"
   ]
  },
  {
   "cell_type": "code",
   "execution_count": 39,
   "id": "898ae446",
   "metadata": {},
   "outputs": [
    {
     "data": {
      "text/plain": [
       "    Oct 2002     Nov 2002     Dec 2002     Jan 2003     Feb 2003     Mar 2003 \n",
       "          NA  0.055500585 -0.062229277 -0.027797494 -0.017149844  0.008322874 "
      ]
     },
     "metadata": {},
     "output_type": "display_data"
    },
    {
     "data": {
      "text/plain": [
       "  2002-10-09   2002-10-10   2002-10-11   2002-10-14   2002-10-15   2002-10-16 \n",
       "          NA  0.034368339  0.038315123  0.007299825  0.046249339 -0.024408404 "
      ]
     },
     "metadata": {},
     "output_type": "display_data"
    }
   ],
   "source": [
    "#S and P montly and daily log  returns\n",
    "sp.monthly.r<-Return.calculate(sp.monthly, method = \"log\")\n",
    "sp.daily.r<-Return.calculate(sp.z, method = \"log\")\n",
    "head(sp.monthly.r)\n",
    "head(sp.daily.r)"
   ]
  },
  {
   "cell_type": "code",
   "execution_count": 40,
   "id": "6903b889",
   "metadata": {},
   "outputs": [
    {
     "data": {
      "text/plain": [
       "                   ms.z         sp.z\n",
       "2002-10-09           NA           NA\n",
       "2002-10-10  0.052678698  0.034368339\n",
       "2002-10-11  0.052499983  0.038315123\n",
       "2002-10-14  0.008555766  0.007299825\n",
       "2002-10-15  0.059072290  0.046249339\n",
       "2002-10-16 -0.036608449 -0.024408404"
      ]
     },
     "metadata": {},
     "output_type": "display_data"
    },
    {
     "data": {
      "text/plain": [
       "           ms.monthly    sp.monthly\n",
       "May 2022 -0.020568992  5.324247e-05\n",
       "Jun 2022 -0.056909623 -8.765157e-02\n",
       "Jul 2022  0.089014587  8.720134e-02\n",
       "Aug 2022 -0.071109420 -4.336702e-02\n",
       "Sep 2022 -0.115710377 -9.804920e-02\n",
       "Oct 2022  0.005737054  1.495887e-02"
      ]
     },
     "metadata": {},
     "output_type": "display_data"
    }
   ],
   "source": [
    "#daily and monhtly log returns for merged data\n",
    "ms.sp.dp.r<-Return.calculate(ms.sp.dp, method = \"log\")\n",
    "ms.sp.dm.r<-Return.calculate(ms.sp.dm, method = \"log\")\n",
    "head(ms.sp.dp.r)\n",
    "tail(ms.sp.dm.r)\n"
   ]
  },
  {
   "cell_type": "markdown",
   "id": "483856c3",
   "metadata": {},
   "source": [
    "### To calculate simple returns, just replace \"log\" with \"simple\""
   ]
  },
  {
   "cell_type": "markdown",
   "id": "e36f9ff7",
   "metadata": {},
   "source": [
    "## Removing NAs values"
   ]
  },
  {
   "cell_type": "code",
   "execution_count": 41,
   "id": "eb385bab",
   "metadata": {},
   "outputs": [],
   "source": [
    "ms.monthly.r<-ms.monthly.r[-1]\n",
    "ms.daily.r<-ms.daily.r[-1]\n",
    "sp.monthly.r<-sp.monthly.r[-1]\n",
    "sp.daily.r<-sp.daily.r[-1]\n",
    "ms.sp.dp.r<-ms.sp.dp.r[-1]\n",
    "ms.sp.dm.r<-ms.sp.dm.r[-1]"
   ]
  },
  {
   "cell_type": "code",
   "execution_count": 42,
   "id": "4bac4e35",
   "metadata": {},
   "outputs": [
    {
     "data": {
      "text/plain": [
       "    Nov 2002     Dec 2002     Jan 2003     Feb 2003     Mar 2003     Apr 2003 \n",
       " 0.075602741 -0.109452711 -0.085570531 -0.001265022  0.021290723  0.054262859 "
      ]
     },
     "metadata": {},
     "output_type": "display_data"
    }
   ],
   "source": [
    "head(ms.monthly.r)"
   ]
  },
  {
   "cell_type": "code",
   "execution_count": 43,
   "id": "1333a374",
   "metadata": {},
   "outputs": [
    {
     "data": {
      "text/plain": [
       "         ms.monthly sp.monthly\n",
       "Oct 2002      26.74     885.76\n",
       "Nov 2002      28.84     936.31\n",
       "Dec 2002      25.85     879.82\n",
       "Jan 2003      23.73     855.70\n",
       "Feb 2003      23.70     841.15\n",
       "Mar 2003      24.21     848.18"
      ]
     },
     "metadata": {},
     "output_type": "display_data"
    }
   ],
   "source": [
    "head(ms.sp.dm)"
   ]
  },
  {
   "cell_type": "markdown",
   "id": "b73731e3",
   "metadata": {},
   "source": [
    "# 2. Time Plot"
   ]
  },
  {
   "cell_type": "markdown",
   "id": "6bf28fcf",
   "metadata": {},
   "source": [
    "A natural graphical descriptive statistic for time series data is a time plot. This is simply a line plot with the time series data on the y-axis and the time index on the x-axis. Time plots are\n",
    "useful for quickly visualizing many features of the time series data.\n"
   ]
  },
  {
   "cell_type": "code",
   "execution_count": 44,
   "id": "12b74dc8",
   "metadata": {},
   "outputs": [
    {
     "data": {
      "image/png": "[encoded data removed]",
      "text/plain": [
       "Plot with title \"Microsoft Daily Prices\""
      ]
     },
     "metadata": {},
     "output_type": "display_data"
    }
   ],
   "source": [
    "plot.zoo(ms.z, main = \"Microsoft Daily Prices\", lwd = 2, col = \"blue\")"
   ]
  },
  {
   "cell_type": "code",
   "execution_count": 45,
   "id": "8c1210f2",
   "metadata": {},
   "outputs": [
    {
     "data": {
      "image/png": "[encoded data removed]",
      "text/plain": [
       "Plot with title \"Microsoft Monthly Prices Plot\""
      ]
     },
     "metadata": {},
     "output_type": "display_data"
    }
   ],
   "source": [
    "plot.zoo(ms.monthly, main = \"Microsoft Monthly Prices Plot\", lwd = 2, col = \"red\")"
   ]
  },
  {
   "cell_type": "markdown",
   "id": "4d24dfaa",
   "metadata": {},
   "source": [
    "#### Combined plot for daily prices"
   ]
  },
  {
   "cell_type": "code",
   "execution_count": 127,
   "id": "8bd348bb",
   "metadata": {},
   "outputs": [
    {
     "data": {
      "image/png": "[encoded data removed]",
      "text/plain": [
       "Plot with title \"Microsoft and S&P Daily Prices Plot\""
      ]
     },
     "metadata": {},
     "output_type": "display_data"
    }
   ],
   "source": [
    "plot.zoo(ms.sp.dp, main = \"Microsoft and S&P Daily Prices Plot\", lwd = 2, col = \"red\")"
   ]
  },
  {
   "cell_type": "markdown",
   "id": "c49c1651",
   "metadata": {},
   "source": [
    "## Plotting returns of the both stock on the same graph"
   ]
  },
  {
   "cell_type": "code",
   "execution_count": 129,
   "id": "04c51740",
   "metadata": {},
   "outputs": [
    {
     "data": {
      "image/png": "[encoded data removed]",
      "text/plain": [
       "Plot with title \"\""
      ]
     },
     "metadata": {},
     "output_type": "display_data"
    }
   ],
   "source": [
    "plot.zoo(ms.sp.dm.r, plot.type = \"single\", main = \"\", col = c(\"red\", \"blue\"),\n",
    "lty = c(\"dashed\", \"solid\"), lwd = 2, ylab = \"Returns\")\n",
    "abline(h = 0)\n",
    "legend(x = \"bottomright\", legend = colnames(ms.sp.dm.r),\n",
    "lty = c(\"dashed\", \"solid\"), lwd = 2, col = c(\"red\", \"blue\"))"
   ]
  },
  {
   "cell_type": "markdown",
   "id": "0a55d6a8",
   "metadata": {},
   "source": [
    "# 3. Histogram"
   ]
  },
  {
   "cell_type": "markdown",
   "id": "adaf013a",
   "metadata": {},
   "source": [
    "A histogram of returns is a graphical summary used to describe the general shape of the unknown pdf. The histograms of the daily and monthly returns on Microsoft stock and the S&P\n",
    "500 index created using the R function hist():"
   ]
  },
  {
   "cell_type": "code",
   "execution_count": 130,
   "id": "65daf907",
   "metadata": {},
   "outputs": [
    {
     "data": {
      "image/png": "[encoded data removed]",
      "text/plain": [
       "Plot with title \"SP Daily Returns\""
      ]
     },
     "metadata": {},
     "output_type": "display_data"
    }
   ],
   "source": [
    "# creating multiple plot in one window, 2 rows and 2 columns\n",
    "par(mfrow = c(2, 2))\n",
    "hist(ms.monthly.r, main = \"MS Monthly Returns\", col = \"cornflowerblue\")\n",
    "hist(ms.daily.r, main = \"MS Daily Returns\", col = \"Red\")\n",
    "hist(sp.monthly.r, main = \"SP Monthly Returns\", col = \"cornflowerblue\")\n",
    "hist(sp.daily.r, main = \"SP Daily Returns\", col = \"Red\")\n",
    "par(mfrow = c(1, 1))"
   ]
  },
  {
   "cell_type": "markdown",
   "id": "4eb2a99a",
   "metadata": {},
   "source": [
    "# 4. QQ Plot"
   ]
  },
  {
   "cell_type": "markdown",
   "id": "f5a52eca",
   "metadata": {},
   "source": [
    "The quantile-quantile plot (QQ-plot) gives a graphical comparison of the empirical quantiles of a data sample to those from a specified reference distribution."
   ]
  },
  {
   "cell_type": "code",
   "execution_count": 131,
   "id": "5af38ff9",
   "metadata": {},
   "outputs": [
    {
     "data": {
      "image/png": "[encoded data removed]",
      "text/plain": [
       "Plot with title \"SP500 Daily Returns\""
      ]
     },
     "metadata": {},
     "output_type": "display_data"
    }
   ],
   "source": [
    "par(mfrow = c(1, 2))\n",
    "qqnorm(ms.monthly.r, main = \"MSFT Daily Returns\", col = \"cornflowerblue\")\n",
    "qqline(ms.monthly.r)\n",
    "qqnorm(sp.monthly.r, main = \"SP500 Daily Returns\", col = \"cornflowerblue\")\n",
    "qqline(sp.monthly.r)\n",
    "par(mfrow = c(1, 1))"
   ]
  },
  {
   "cell_type": "markdown",
   "id": "b69c1fe8",
   "metadata": {},
   "source": [
    "# 5. Equity Plot"
   ]
  },
  {
   "cell_type": "markdown",
   "id": "d53cf4c3",
   "metadata": {},
   "source": [
    "To directly compare the investment performance of two or more assets, plot the simple multi\u0002period cumulative returns of each asset on the same graph. This type of graph, sometimes\n",
    "called an equity curve, shows how a one dollar investment amount in each asset grows over\n",
    "time."
   ]
  },
  {
   "cell_type": "code",
   "execution_count": 140,
   "id": "04304713",
   "metadata": {},
   "outputs": [
    {
     "data": {
      "image/png": "[encoded data removed]",
      "text/plain": [
       "Plot with title \"Equity Plot\""
      ]
     },
     "metadata": {},
     "output_type": "display_data"
    }
   ],
   "source": [
    "equityCurveMsft = cumprod(1 + ms.monthly.r)\n",
    "equityCurveSp500 = cumprod(1 + sp.monthly.r)\n",
    "dataToPlot = merge(equityCurveMsft, equityCurveSp500)\n",
    "plot.zoo(dataToPlot, plot.type = \"single\",main= \"Equity Plot\", ylab = \"Cumulative Returns\",xlab = \"Time\", col = c(\"red\",\n",
    "\"blue\"), lwd = 2)\n",
    "legend(x = \"topright\", legend = c(\"MSFT\", \"SP500\"), col = c(\"black\", \"blue\"), lwd = 2)\n"
   ]
  },
  {
   "cell_type": "markdown",
   "id": "51607627",
   "metadata": {},
   "source": [
    "# 6. Shape Characteristics of the Empirical Distribution\n"
   ]
  },
  {
   "cell_type": "code",
   "execution_count": 139,
   "id": "2aca458c",
   "metadata": {},
   "outputs": [
    {
     "data": {
      "text/html": [
       "<table>\n",
       "<thead><tr><th></th><th scope=col>ms.monthly</th><th scope=col>sp.monthly</th></tr></thead>\n",
       "<tbody>\n",
       "\t<tr><th scope=row>Mean</th><td> 0.0090</td><td> 0.0059</td></tr>\n",
       "\t<tr><th scope=row>Variance</th><td> 0.0041</td><td> 0.0018</td></tr>\n",
       "\t<tr><th scope=row>Std Dev</th><td> 0.0639</td><td> 0.0428</td></tr>\n",
       "\t<tr><th scope=row>Skewness</th><td>-0.1203</td><td>-0.8242</td></tr>\n",
       "\t<tr><th scope=row>Excess\n",
       "Kurtosis</th><td> 0.5583</td><td> 1.9220</td></tr>\n",
       "</tbody>\n",
       "</table>\n"
      ],
      "text/latex": [
       "\\begin{tabular}{r|ll}\n",
       "  & ms.monthly & sp.monthly\\\\\n",
       "\\hline\n",
       "\tMean &  0.0090 &  0.0059\\\\\n",
       "\tVariance &  0.0041 &  0.0018\\\\\n",
       "\tStd Dev &  0.0639 &  0.0428\\\\\n",
       "\tSkewness & -0.1203 & -0.8242\\\\\n",
       "\tExcess\n",
       "Kurtosis &  0.5583 &  1.9220\\\\\n",
       "\\end{tabular}\n"
      ],
      "text/markdown": [
       "\n",
       "| <!--/--> | ms.monthly | sp.monthly |\n",
       "|---|---|---|\n",
       "| Mean |  0.0090 |  0.0059 |\n",
       "| Variance |  0.0041 |  0.0018 |\n",
       "| Std Dev |  0.0639 |  0.0428 |\n",
       "| Skewness | -0.1203 | -0.8242 |\n",
       "| Excess\n",
       "Kurtosis |  0.5583 |  1.9220 |\n",
       "\n"
      ],
      "text/plain": [
       "                 ms.monthly sp.monthly\n",
       "Mean              0.0090     0.0059   \n",
       "Variance          0.0041     0.0018   \n",
       "Std Dev           0.0639     0.0428   \n",
       "Skewness         -0.1203    -0.8242   \n",
       "Excess\\nKurtosis  0.5583     1.9220   "
      ]
     },
     "metadata": {},
     "output_type": "display_data"
    }
   ],
   "source": [
    "#Monthly data\n",
    "statsMonthly = rbind(apply(ms.sp.dm.r, 2, mean),\n",
    "apply(ms.sp.dm.r, 2, var), apply(ms.sp.dm.r, 2, sd),\n",
    "apply(ms.sp.dm.r, 2, skewness), apply(ms.sp.dm.r, 2, kurtosis))\n",
    "rownames(statsMonthly) = c(\"Mean\", \"Variance\", \"Std Dev\", \"Skewness\", \"Excess\n",
    "Kurtosis\")\n",
    "round(statsMonthly, digits = 4)"
   ]
  },
  {
   "cell_type": "markdown",
   "id": "74d8951f",
   "metadata": {},
   "source": [
    "# 7. Box plots"
   ]
  },
  {
   "cell_type": "markdown",
   "id": "d7242ad5",
   "metadata": {},
   "source": [
    "A boxplot is a standardized way of displaying the distribution of data based on a five-number summary (“minimum”, first quartile (Q1), median, third quartile (Q3), and “maximum”). It can\n",
    "tell you about your outliers and what their values are. It can also tell you if your data is symmetrical, how tightly your data is grouped, and if and how your data is skewed.\n"
   ]
  },
  {
   "cell_type": "code",
   "execution_count": 141,
   "id": "0e9b95e4",
   "metadata": {},
   "outputs": [
    {
     "data": {
      "image/png": "[encoded data removed]",
      "text/plain": [
       "Plot with title \"MS Monthly Simple Returns vs. SP Monthly Simple Returns\""
      ]
     },
     "metadata": {},
     "output_type": "display_data"
    }
   ],
   "source": [
    "####Box plot\n",
    "dataToPlot = merge(ms.monthly.r, sp.monthly.r)\n",
    "colnames(dataToPlot) = c(\"MS Monthly Simple Returns\", \"SP Monthly Simple Returns\")\n",
    "boxplot(coredata(dataToPlot), main = \"MS Monthly Simple Returns vs. SP Monthly Simple Returns\",\n",
    "col = \"cornflowerblue\")"
   ]
  },
  {
   "cell_type": "markdown",
   "id": "4d25b2e7",
   "metadata": {},
   "source": [
    "# End of Lecture"
   ]
  }
 ],
 "metadata": {
  "kernelspec": {
   "display_name": "R",
   "language": "R",
   "name": "ir"
  },
  "language_info": {
   "codemirror_mode": "r",
   "file_extension": ".r",
   "mimetype": "text/x-r-source",
   "name": "R",
   "pygments_lexer": "r",
   "version": "3.6.1"
  }
 },
 "nbformat": 4,
 "nbformat_minor": 5
}
